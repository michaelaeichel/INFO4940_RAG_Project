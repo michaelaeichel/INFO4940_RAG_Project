{
 "cells": [
  {
   "cell_type": "code",
   "execution_count": 4,
   "id": "8ffbb651",
   "metadata": {},
   "outputs": [
    {
     "name": "stdout",
     "output_type": "stream",
     "text": [
      "CSV file created successfully.\n"
     ]
    }
   ],
   "source": [
    "import csv\n",
    "\n",
    "input_file = 'rag-questions-1.txt'  # Path to your input txt file\n",
    "output_file = 'rag-questions-1.csv'  # Path to save the output CSV file\n",
    "\n",
    "# Open the input file in read mode\n",
    "with open(input_file, 'r') as txt_file:\n",
    "    # Read all lines\n",
    "    lines = txt_file.readlines()\n",
    "\n",
    "# Open the output CSV file in write mode\n",
    "with open(output_file, 'w', newline='') as csv_file:\n",
    "    writer = csv.writer(csv_file)\n",
    "    # Write the header row\n",
    "    writer.writerow(['Question', 'Answer'])\n",
    "    \n",
    "    # Process each line\n",
    "    for line in lines:\n",
    "        # Split the line by 'Q:' and 'A:'\n",
    "        if line.startswith(\"Q:\") and ',A:' in line:\n",
    "            question, answer = line.split(',A:')\n",
    "            question = question.strip()[2:].strip()  # Remove 'Q:' and extra spaces\n",
    "            answer = answer.strip()  # Remove extra spaces\n",
    "            # Write the question and answer to the CSV file\n",
    "            writer.writerow([question, answer])\n",
    "\n",
    "print(\"CSV file created successfully.\")\n"
   ]
  }
 ],
 "metadata": {
  "kernelspec": {
   "display_name": "Python 3 (ipykernel)",
   "language": "python",
   "name": "python3"
  },
  "language_info": {
   "codemirror_mode": {
    "name": "ipython",
    "version": 3
   },
   "file_extension": ".py",
   "mimetype": "text/x-python",
   "name": "python",
   "nbconvert_exporter": "python",
   "pygments_lexer": "ipython3",
   "version": "3.11.7"
  }
 },
 "nbformat": 4,
 "nbformat_minor": 5
}
